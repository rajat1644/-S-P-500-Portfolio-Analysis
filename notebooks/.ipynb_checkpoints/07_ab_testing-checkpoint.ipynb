{
 "cells": [
  {
   "cell_type": "code",
   "execution_count": null,
   "id": "0bcdb9a1-90c7-48fb-a5bf-372887c3ead1",
   "metadata": {},
   "outputs": [],
   "source": [
    "# A/B testing is a method to compare two differnet strategies to solve a business problem or \n",
    "# test a predictive model to see whether its outcomes are favourable or not\n",
    "# Here we run A/B testing on NVIDIA's share price and positions"
   ]
  },
  {
   "cell_type": "code",
   "execution_count": 1,
   "id": "5a51ede9-f79b-442d-b37a-698c76f79354",
   "metadata": {},
   "outputs": [
    {
     "data": {
      "text/html": [
       "<div>\n",
       "<style scoped>\n",
       "    .dataframe tbody tr th:only-of-type {\n",
       "        vertical-align: middle;\n",
       "    }\n",
       "\n",
       "    .dataframe tbody tr th {\n",
       "        vertical-align: top;\n",
       "    }\n",
       "\n",
       "    .dataframe thead th {\n",
       "        text-align: right;\n",
       "    }\n",
       "</style>\n",
       "<table border=\"1\" class=\"dataframe\">\n",
       "  <thead>\n",
       "    <tr style=\"text-align: right;\">\n",
       "      <th></th>\n",
       "      <th>date</th>\n",
       "      <th>open</th>\n",
       "      <th>high</th>\n",
       "      <th>low</th>\n",
       "      <th>close</th>\n",
       "      <th>volume</th>\n",
       "      <th>Name</th>\n",
       "    </tr>\n",
       "  </thead>\n",
       "  <tbody>\n",
       "    <tr>\n",
       "      <th>0</th>\n",
       "      <td>2013-02-08</td>\n",
       "      <td>12.370</td>\n",
       "      <td>12.4699</td>\n",
       "      <td>12.29</td>\n",
       "      <td>12.37</td>\n",
       "      <td>7677336</td>\n",
       "      <td>NVDA</td>\n",
       "    </tr>\n",
       "    <tr>\n",
       "      <th>1</th>\n",
       "      <td>2013-02-11</td>\n",
       "      <td>12.470</td>\n",
       "      <td>12.6350</td>\n",
       "      <td>12.35</td>\n",
       "      <td>12.51</td>\n",
       "      <td>10207599</td>\n",
       "      <td>NVDA</td>\n",
       "    </tr>\n",
       "    <tr>\n",
       "      <th>2</th>\n",
       "      <td>2013-02-12</td>\n",
       "      <td>12.395</td>\n",
       "      <td>12.5650</td>\n",
       "      <td>12.38</td>\n",
       "      <td>12.43</td>\n",
       "      <td>6945065</td>\n",
       "      <td>NVDA</td>\n",
       "    </tr>\n",
       "    <tr>\n",
       "      <th>3</th>\n",
       "      <td>2013-02-13</td>\n",
       "      <td>12.440</td>\n",
       "      <td>12.6650</td>\n",
       "      <td>12.33</td>\n",
       "      <td>12.37</td>\n",
       "      <td>21322573</td>\n",
       "      <td>NVDA</td>\n",
       "    </tr>\n",
       "    <tr>\n",
       "      <th>4</th>\n",
       "      <td>2013-02-14</td>\n",
       "      <td>12.200</td>\n",
       "      <td>12.7400</td>\n",
       "      <td>12.05</td>\n",
       "      <td>12.73</td>\n",
       "      <td>22049335</td>\n",
       "      <td>NVDA</td>\n",
       "    </tr>\n",
       "  </tbody>\n",
       "</table>\n",
       "</div>"
      ],
      "text/plain": [
       "         date    open     high    low  close    volume  Name\n",
       "0  2013-02-08  12.370  12.4699  12.29  12.37   7677336  NVDA\n",
       "1  2013-02-11  12.470  12.6350  12.35  12.51  10207599  NVDA\n",
       "2  2013-02-12  12.395  12.5650  12.38  12.43   6945065  NVDA\n",
       "3  2013-02-13  12.440  12.6650  12.33  12.37  21322573  NVDA\n",
       "4  2013-02-14  12.200  12.7400  12.05  12.73  22049335  NVDA"
      ]
     },
     "execution_count": 1,
     "metadata": {},
     "output_type": "execute_result"
    }
   ],
   "source": [
    "import pandas as pd\n",
    "import numpy as np\n",
    "import matplotlib.pyplot as plt\n",
    "nvda_df = pd.read_csv('../individual_stocks_5yr/individual_stocks_5yr/NVDA_data.csv')\n",
    "nvda_df.head()"
   ]
  },
  {
   "cell_type": "code",
   "execution_count": 2,
   "id": "02f5f782-3ef4-43a2-8a34-22140db72f03",
   "metadata": {},
   "outputs": [
    {
     "name": "stdout",
     "output_type": "stream",
     "text": [
      "<class 'pandas.core.frame.DataFrame'>\n",
      "RangeIndex: 1259 entries, 0 to 1258\n",
      "Data columns (total 7 columns):\n",
      " #   Column  Non-Null Count  Dtype  \n",
      "---  ------  --------------  -----  \n",
      " 0   date    1259 non-null   object \n",
      " 1   open    1259 non-null   float64\n",
      " 2   high    1259 non-null   float64\n",
      " 3   low     1259 non-null   float64\n",
      " 4   close   1259 non-null   float64\n",
      " 5   volume  1259 non-null   int64  \n",
      " 6   symbol  1259 non-null   object \n",
      "dtypes: float64(4), int64(1), object(2)\n",
      "memory usage: 69.0+ KB\n"
     ]
    },
    {
     "data": {
      "text/html": [
       "<div>\n",
       "<style scoped>\n",
       "    .dataframe tbody tr th:only-of-type {\n",
       "        vertical-align: middle;\n",
       "    }\n",
       "\n",
       "    .dataframe tbody tr th {\n",
       "        vertical-align: top;\n",
       "    }\n",
       "\n",
       "    .dataframe thead th {\n",
       "        text-align: right;\n",
       "    }\n",
       "</style>\n",
       "<table border=\"1\" class=\"dataframe\">\n",
       "  <thead>\n",
       "    <tr style=\"text-align: right;\">\n",
       "      <th></th>\n",
       "      <th>date</th>\n",
       "      <th>open</th>\n",
       "      <th>high</th>\n",
       "      <th>low</th>\n",
       "      <th>close</th>\n",
       "      <th>volume</th>\n",
       "      <th>symbol</th>\n",
       "    </tr>\n",
       "  </thead>\n",
       "  <tbody>\n",
       "    <tr>\n",
       "      <th>0</th>\n",
       "      <td>2013-02-08</td>\n",
       "      <td>12.370</td>\n",
       "      <td>12.4699</td>\n",
       "      <td>12.29</td>\n",
       "      <td>12.37</td>\n",
       "      <td>7677336</td>\n",
       "      <td>NVDA</td>\n",
       "    </tr>\n",
       "    <tr>\n",
       "      <th>1</th>\n",
       "      <td>2013-02-11</td>\n",
       "      <td>12.470</td>\n",
       "      <td>12.6350</td>\n",
       "      <td>12.35</td>\n",
       "      <td>12.51</td>\n",
       "      <td>10207599</td>\n",
       "      <td>NVDA</td>\n",
       "    </tr>\n",
       "    <tr>\n",
       "      <th>2</th>\n",
       "      <td>2013-02-12</td>\n",
       "      <td>12.395</td>\n",
       "      <td>12.5650</td>\n",
       "      <td>12.38</td>\n",
       "      <td>12.43</td>\n",
       "      <td>6945065</td>\n",
       "      <td>NVDA</td>\n",
       "    </tr>\n",
       "    <tr>\n",
       "      <th>3</th>\n",
       "      <td>2013-02-13</td>\n",
       "      <td>12.440</td>\n",
       "      <td>12.6650</td>\n",
       "      <td>12.33</td>\n",
       "      <td>12.37</td>\n",
       "      <td>21322573</td>\n",
       "      <td>NVDA</td>\n",
       "    </tr>\n",
       "    <tr>\n",
       "      <th>4</th>\n",
       "      <td>2013-02-14</td>\n",
       "      <td>12.200</td>\n",
       "      <td>12.7400</td>\n",
       "      <td>12.05</td>\n",
       "      <td>12.73</td>\n",
       "      <td>22049335</td>\n",
       "      <td>NVDA</td>\n",
       "    </tr>\n",
       "  </tbody>\n",
       "</table>\n",
       "</div>"
      ],
      "text/plain": [
       "         date    open     high    low  close    volume symbol\n",
       "0  2013-02-08  12.370  12.4699  12.29  12.37   7677336   NVDA\n",
       "1  2013-02-11  12.470  12.6350  12.35  12.51  10207599   NVDA\n",
       "2  2013-02-12  12.395  12.5650  12.38  12.43   6945065   NVDA\n",
       "3  2013-02-13  12.440  12.6650  12.33  12.37  21322573   NVDA\n",
       "4  2013-02-14  12.200  12.7400  12.05  12.73  22049335   NVDA"
      ]
     },
     "execution_count": 2,
     "metadata": {},
     "output_type": "execute_result"
    }
   ],
   "source": [
    "# performing cleaning on nvidia's dataset\n",
    "nvda_df.columns.str.lower().str.strip()\n",
    "nvda_df.rename(columns={'Name': 'symbol'}, inplace=True)\n",
    "nvda_df.info()\n",
    "nvda_df.isnull().sum()\n",
    "nvda_df.dropna(inplace=True)\n",
    "nvda_df.drop_duplicates(inplace=True)\n",
    "nvda_df.to_csv('./data/processed/nvidia_cleaned_data.csv')\n",
    "nvda_df = nvda_df.copy().sort_values('date')\n",
    "nvda_df.head()\n"
   ]
  },
  {
   "cell_type": "code",
   "execution_count": null,
   "id": "fabb77fe-499c-4436-8b29-a1d63abe196d",
   "metadata": {},
   "outputs": [],
   "source": [
    "# 1. Moving average cross over test:\n",
    "# Strategy A: buy when 20 day moving average crosses 50 day moving avg\n",
    "# Strategy B: hold the position"
   ]
  },
  {
   "cell_type": "code",
   "execution_count": 8,
   "id": "f87cd708-8735-4c7e-a995-06c43d5df467",
   "metadata": {},
   "outputs": [],
   "source": [
    "nvda_df['ma20'] = nvda_df['close'].rolling(20).mean()\n",
    "nvda_df['ma50'] = nvda_df['close'].rolling(50).mean()\n",
    "\n",
    "# Buying Signal\n",
    "nvda_df['signal'] = 0\n",
    "nvda_df.loc[nvda_df['ma20'] > nvda_df['ma50'], 'signal'] = 1\n",
    "# Startegy A's Returns:\n",
    "nvda_df['daily_return'] = nvda_df['close'].pct_change()\n",
    "nvda_df['strategy_a_returns'] = nvda_df['signal'].shift(1) * nvda_df['daily_return']\n",
    "# Strategy B\n",
    "nvda_df['strategy_b_return'] = nvda_df['daily_return']"
   ]
  },
  {
   "cell_type": "code",
   "execution_count": 10,
   "id": "49c99961-b315-4feb-b50d-4521f5d77b6f",
   "metadata": {},
   "outputs": [],
   "source": [
    "# Comparing the two startegies' cumulative returns\n",
    "nvda_df[['strategy_a_returns', 'strategy_b_return']] = nvda_df[['strategy_a_returns', 'strategy_b_return']].fillna(0)\n",
    "nvda_df['cumulative_return_a'] = (1 + nvda_df['strategy_a_returns']).cumprod()\n",
    "nvda_df['cumulative_return_b'] = (1 + nvda_df['strategy_b_return']).cumprod()"
   ]
  },
  {
   "cell_type": "code",
   "execution_count": null,
   "id": "68a803e9-2ee7-4b8d-aefa-88a66bd7957d",
   "metadata": {},
   "outputs": [],
   "source": [
    "# plotting the comparision"
   ]
  },
  {
   "cell_type": "code",
   "execution_count": 12,
   "id": "6a89392b-d87f-4a3b-91a1-9044780a07f7",
   "metadata": {},
   "outputs": [
    {
     "data": {
      "image/png": "[encoded data removed]",
      "text/plain": [
       "<Figure size 1000x500 with 1 Axes>"
      ]
     },
     "metadata": {},
     "output_type": "display_data"
    }
   ],
   "source": [
    "plt.figure(figsize=(10,5))\n",
    "plt.plot(nvda_df['date'], nvda_df['cumulative_return_a'], label='Strategy A: Crossover')\n",
    "plt.plot(nvda_df['date'], nvda_df['cumulative_return_b'], label='Strategy B: Hold')\n",
    "plt.title('A/B Testing')\n",
    "plt.legend()\n",
    "plt.grid(False)\n",
    "plt.savefig('../reports/visuals/ab_testing.png')\n",
    "plt.show()"
   ]
  },
  {
   "cell_type": "code",
   "execution_count": null,
   "id": "8b48b9d0-824c-48f0-b2c7-a18bad0f9fa1",
   "metadata": {},
   "outputs": [],
   "source": []
  }
 ],
 "metadata": {
  "kernelspec": {
   "display_name": "Python 3 (ipykernel)",
   "language": "python",
   "name": "python3"
  },
  "language_info": {
   "codemirror_mode": {
    "name": "ipython",
    "version": 3
   },
   "file_extension": ".py",
   "mimetype": "text/x-python",
   "name": "python",
   "nbconvert_exporter": "python",
   "pygments_lexer": "ipython3",
   "version": "3.11.9"
  }
 },
 "nbformat": 4,
 "nbformat_minor": 5
}
