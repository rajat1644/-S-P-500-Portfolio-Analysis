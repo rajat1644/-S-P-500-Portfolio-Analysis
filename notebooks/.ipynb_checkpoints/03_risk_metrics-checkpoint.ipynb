{
 "cells": [
  {
   "cell_type": "code",
   "execution_count": null,
   "id": "3798b186-d654-46d1-84e5-6a677f1e16d4",
   "metadata": {},
   "outputs": [],
   "source": [
    "# Key Metrics to calculate risks related to investing in a stock:\n",
    "# - Volatality\n",
    "# - Cumulative Returns \n",
    "# - Sharpe Ratio (return adjusted for risk)\n",
    "# - Max Dropdown\n",
    "# - Beta ratio"
   ]
  },
  {
   "cell_type": "code",
   "execution_count": 2,
   "id": "2be6eca6-5f1d-448c-b1fb-f8cabb552ca7",
   "metadata": {},
   "outputs": [
    {
     "name": "stdout",
     "output_type": "stream",
     "text": [
      "Selected Stocks Are:\n",
      " ['MSFT', 'GOOGL', 'ORCL']\n"
     ]
    }
   ],
   "source": [
    "import numpy as np\n",
    "import pandas as pd\n",
    "import matplotlib.pyplot as plt\n",
    "df=pd.read_csv('./data/processed/cleaned_stocks.csv', parse_dates=['date'])\n",
    "selected_stocks = ['MSFT', 'GOOGL', 'ORCL']\n",
    "returns_df = df[df['symbol'].isin(selected_stocks)].copy()\n",
    "returns_df.sort_values(['symbol', 'date'], inplace=True)\n",
    "returns_df['daily_return'] = returns_df.groupby('symbol')['close'].pct_change()\n",
    "print(\"Selected Stocks Are:\\n\", selected_stocks)\n",
    "# daily returns are needed to calculate cumulative returns"
   ]
  },
  {
   "cell_type": "code",
   "execution_count": null,
   "id": "f88cc79b-1a8e-4f0c-b746-af7afa3671eb",
   "metadata": {},
   "outputs": [],
   "source": [
    "# Cumulative returns "
   ]
  },
  {
   "cell_type": "code",
   "execution_count": 3,
   "id": "414c41b2-8866-4b07-a504-0d21a882f564",
   "metadata": {},
   "outputs": [
    {
     "data": {
      "text/html": [
       "<div>\n",
       "<style scoped>\n",
       "    .dataframe tbody tr th:only-of-type {\n",
       "        vertical-align: middle;\n",
       "    }\n",
       "\n",
       "    .dataframe tbody tr th {\n",
       "        vertical-align: top;\n",
       "    }\n",
       "\n",
       "    .dataframe thead th {\n",
       "        text-align: right;\n",
       "    }\n",
       "</style>\n",
       "<table border=\"1\" class=\"dataframe\">\n",
       "  <thead>\n",
       "    <tr style=\"text-align: right;\">\n",
       "      <th></th>\n",
       "      <th>date</th>\n",
       "      <th>open</th>\n",
       "      <th>high</th>\n",
       "      <th>low</th>\n",
       "      <th>close</th>\n",
       "      <th>volume</th>\n",
       "      <th>symbol</th>\n",
       "      <th>daily_return</th>\n",
       "      <th>cumulative_return</th>\n",
       "    </tr>\n",
       "  </thead>\n",
       "  <tbody>\n",
       "    <tr>\n",
       "      <th>2518</th>\n",
       "      <td>2013-02-08</td>\n",
       "      <td>390.4551</td>\n",
       "      <td>393.7283</td>\n",
       "      <td>390.1698</td>\n",
       "      <td>393.0777</td>\n",
       "      <td>6031199</td>\n",
       "      <td>GOOGL</td>\n",
       "      <td>NaN</td>\n",
       "      <td>NaN</td>\n",
       "    </tr>\n",
       "    <tr>\n",
       "      <th>2519</th>\n",
       "      <td>2013-02-11</td>\n",
       "      <td>389.5892</td>\n",
       "      <td>391.8915</td>\n",
       "      <td>387.2619</td>\n",
       "      <td>391.6012</td>\n",
       "      <td>4330781</td>\n",
       "      <td>GOOGL</td>\n",
       "      <td>-0.003756</td>\n",
       "      <td>0.996244</td>\n",
       "    </tr>\n",
       "    <tr>\n",
       "      <th>2520</th>\n",
       "      <td>2013-02-12</td>\n",
       "      <td>391.2659</td>\n",
       "      <td>394.3440</td>\n",
       "      <td>390.0747</td>\n",
       "      <td>390.7403</td>\n",
       "      <td>3714176</td>\n",
       "      <td>GOOGL</td>\n",
       "      <td>-0.002198</td>\n",
       "      <td>0.994054</td>\n",
       "    </tr>\n",
       "    <tr>\n",
       "      <th>2521</th>\n",
       "      <td>2013-02-13</td>\n",
       "      <td>390.4551</td>\n",
       "      <td>393.0677</td>\n",
       "      <td>390.3750</td>\n",
       "      <td>391.8214</td>\n",
       "      <td>2393946</td>\n",
       "      <td>GOOGL</td>\n",
       "      <td>0.002767</td>\n",
       "      <td>0.996804</td>\n",
       "    </tr>\n",
       "    <tr>\n",
       "      <th>2522</th>\n",
       "      <td>2013-02-14</td>\n",
       "      <td>390.2549</td>\n",
       "      <td>394.7644</td>\n",
       "      <td>389.2739</td>\n",
       "      <td>394.3039</td>\n",
       "      <td>3466971</td>\n",
       "      <td>GOOGL</td>\n",
       "      <td>0.006336</td>\n",
       "      <td>1.003119</td>\n",
       "    </tr>\n",
       "  </tbody>\n",
       "</table>\n",
       "</div>"
      ],
      "text/plain": [
       "           date      open      high       low     close   volume symbol  \\\n",
       "2518 2013-02-08  390.4551  393.7283  390.1698  393.0777  6031199  GOOGL   \n",
       "2519 2013-02-11  389.5892  391.8915  387.2619  391.6012  4330781  GOOGL   \n",
       "2520 2013-02-12  391.2659  394.3440  390.0747  390.7403  3714176  GOOGL   \n",
       "2521 2013-02-13  390.4551  393.0677  390.3750  391.8214  2393946  GOOGL   \n",
       "2522 2013-02-14  390.2549  394.7644  389.2739  394.3039  3466971  GOOGL   \n",
       "\n",
       "      daily_return  cumulative_return  \n",
       "2518           NaN                NaN  \n",
       "2519     -0.003756           0.996244  \n",
       "2520     -0.002198           0.994054  \n",
       "2521      0.002767           0.996804  \n",
       "2522      0.006336           1.003119  "
      ]
     },
     "execution_count": 3,
     "metadata": {},
     "output_type": "execute_result"
    }
   ],
   "source": [
    "returns_df['cumulative_return'] = (1 + returns_df['daily_return']).groupby(returns_df['symbol']).cumprod()\n",
    "returns_df.head()"
   ]
  },
  {
   "cell_type": "code",
   "execution_count": null,
   "id": "5334684c-0003-49ef-a8c6-b8f90c06b16e",
   "metadata": {},
   "outputs": [],
   "source": [
    "# Volatality - standard deviation rate from mean"
   ]
  },
  {
   "cell_type": "code",
   "execution_count": 4,
   "id": "61848d5b-4793-4949-b43f-929eea36fa53",
   "metadata": {},
   "outputs": [
    {
     "data": {
      "text/plain": [
       "symbol\n",
       "GOOGL    0.220332\n",
       "MSFT     0.225580\n",
       "ORCL     0.206551\n",
       "Name: daily_return, dtype: float64"
      ]
     },
     "execution_count": 4,
     "metadata": {},
     "output_type": "execute_result"
    }
   ],
   "source": [
    "volatality = returns_df.groupby('symbol')['daily_return'].std()*(252**0.5)\n",
    "volatality.head()"
   ]
  },
  {
   "cell_type": "code",
   "execution_count": null,
   "id": "8690171e-3e45-4fd0-a077-056b6d2c4fd4",
   "metadata": {},
   "outputs": [],
   "source": [
    "# Sharpe Ratio - return adjusted risk\n",
    "# assuming risk-free rate = 0.025(2.5%) annually"
   ]
  },
  {
   "cell_type": "code",
   "execution_count": 5,
   "id": "4b189ee9-4e1d-4587-b49c-e3f07f7e78c5",
   "metadata": {},
   "outputs": [],
   "source": [
    "avg_daily_return = returns_df.groupby('symbol')['daily_return'].mean()\n",
    "sharpe_ratio = (avg_daily_return * 252 - 0.025)/ volatality\n",
    "\n",
    "def calculate_max_drawdown(stock_df):\n",
    "    cumulative = (1 +(stock_df['daily_return'])).cumprod()\n",
    "    peak = cumulative.cummax()\n",
    "    drawdown = (cumulative - peak)/ peak\n",
    "    return drawdown.min()\n",
    "\n",
    "max_drawdowns = {}\n",
    "for symbol in selected_stocks:\n",
    "    temp_df = returns_df[returns_df['symbol'] == symbol]\n",
    "    max_drawdowns[symbol] = calculate_max_drawdown"
   ]
  },
  {
   "cell_type": "code",
   "execution_count": null,
   "id": "499412ec-9c4d-4bc9-bdbf-8b686eceeadd",
   "metadata": {},
   "outputs": [],
   "source": [
    "# Plotting All the Metrics"
   ]
  },
  {
   "cell_type": "code",
   "execution_count": 6,
   "id": "afd85124-2ef7-4115-b53b-f684d2532672",
   "metadata": {
    "scrolled": true
   },
   "outputs": [
    {
     "data": {
      "image/png": "[encoded data removed]",
      "text/plain": [
       "<Figure size 800x500 with 1 Axes>"
      ]
     },
     "metadata": {},
     "output_type": "display_data"
    }
   ],
   "source": [
    "plt.figure(figsize=(8,5))\n",
    "sharpe_ratio.plot(kind='bar', color='skyblue')\n",
    "plt.title(\"Sharpe Ratio of Selected Stocks\")\n",
    "plt.ylabel(\"Sharpe Ratio\")\n",
    "plt.grid(True)\n",
    "plt.savefig('../reports/visuals/sharpe_ratio.png')\n",
    "plt.show()"
   ]
  },
  {
   "cell_type": "code",
   "execution_count": 8,
   "id": "7d20ebca-980f-4db1-aa43-a1791bf38d4e",
   "metadata": {},
   "outputs": [
    {
     "data": {
      "text/html": [
       "<div>\n",
       "<style scoped>\n",
       "    .dataframe tbody tr th:only-of-type {\n",
       "        vertical-align: middle;\n",
       "    }\n",
       "\n",
       "    .dataframe tbody tr th {\n",
       "        vertical-align: top;\n",
       "    }\n",
       "\n",
       "    .dataframe thead th {\n",
       "        text-align: right;\n",
       "    }\n",
       "</style>\n",
       "<table border=\"1\" class=\"dataframe\">\n",
       "  <thead>\n",
       "    <tr style=\"text-align: right;\">\n",
       "      <th></th>\n",
       "      <th>Volatality</th>\n",
       "      <th>Sharpe Ratio</th>\n",
       "      <th>Max Drawdown</th>\n",
       "    </tr>\n",
       "  </thead>\n",
       "  <tbody>\n",
       "    <tr>\n",
       "      <th>GOOGL</th>\n",
       "      <td>0.220332</td>\n",
       "      <td>0.893090</td>\n",
       "      <td>&lt;function calculate_max_drawdown at 0x000001C5...</td>\n",
       "    </tr>\n",
       "    <tr>\n",
       "      <th>MSFT</th>\n",
       "      <td>0.225580</td>\n",
       "      <td>1.049724</td>\n",
       "      <td>&lt;function calculate_max_drawdown at 0x000001C5...</td>\n",
       "    </tr>\n",
       "    <tr>\n",
       "      <th>ORCL</th>\n",
       "      <td>0.206551</td>\n",
       "      <td>0.309587</td>\n",
       "      <td>&lt;function calculate_max_drawdown at 0x000001C5...</td>\n",
       "    </tr>\n",
       "  </tbody>\n",
       "</table>\n",
       "</div>"
      ],
      "text/plain": [
       "       Volatality  Sharpe Ratio  \\\n",
       "GOOGL    0.220332      0.893090   \n",
       "MSFT     0.225580      1.049724   \n",
       "ORCL     0.206551      0.309587   \n",
       "\n",
       "                                            Max Drawdown  \n",
       "GOOGL  <function calculate_max_drawdown at 0x000001C5...  \n",
       "MSFT   <function calculate_max_drawdown at 0x000001C5...  \n",
       "ORCL   <function calculate_max_drawdown at 0x000001C5...  "
      ]
     },
     "execution_count": 8,
     "metadata": {},
     "output_type": "execute_result"
    }
   ],
   "source": [
    "df.sort_values(by=['symbol', 'date'], inplace=True)\n",
    "df['daily_return'] = df.groupby('symbol')['close'].pct_change()\n",
    "df.to_csv('./data/processed/cleaned_stocks.csv', index=False)\n",
    "# combining all metrics\n",
    "risk_df = pd.DataFrame({\n",
    "    'Volatality': volatality,\n",
    "    'Sharpe Ratio': sharpe_ratio,\n",
    "    'Max Drawdown': pd.Series(max_drawdowns)\n",
    "})\n",
    "risk_df.to_csv('data/processed/risk_metrics.csv')\n",
    "risk_df"
   ]
  },
  {
   "cell_type": "code",
   "execution_count": null,
   "id": "01007c8a-4ce9-43c6-843f-5efced9bd946",
   "metadata": {},
   "outputs": [],
   "source": [
    "# Summary:\n",
    "# A table or bar chart showing:\n",
    "# Volatility\n",
    "# Sharpe ratio\n",
    "# Max drawdown\n",
    "\n",
    "# Clean DataFrame with symbol-wise metrics (maybe save as CSV for dashboard)\n",
    "\n"
   ]
  }
 ],
 "metadata": {
  "kernelspec": {
   "display_name": "Python 3 (ipykernel)",
   "language": "python",
   "name": "python3"
  },
  "language_info": {
   "codemirror_mode": {
    "name": "ipython",
    "version": 3
   },
   "file_extension": ".py",
   "mimetype": "text/x-python",
   "name": "python",
   "nbconvert_exporter": "python",
   "pygments_lexer": "ipython3",
   "version": "3.11.9"
  }
 },
 "nbformat": 4,
 "nbformat_minor": 5
}
