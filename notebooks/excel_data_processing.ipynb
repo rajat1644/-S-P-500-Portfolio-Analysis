{
 "cells": [
  {
   "cell_type": "code",
   "execution_count": 1,
   "id": "b5175918-c891-4863-894d-519431fdcae6",
   "metadata": {},
   "outputs": [],
   "source": [
    "import pandas as pd\n",
    "\n",
    "df=pd.read_csv('./data/processed/cleaned_stocks.csv')\n",
    "# Convert date column\n",
    "df['date'] = pd.to_datetime(df['date'])\n",
    "\n",
    "# Add Year column\n",
    "df['year'] = df['date'].dt.year\n",
    "\n",
    "# Group by stock and year, get first and last closing price\n",
    "annual_returns = df.sort_values(by='date').groupby(['symbol', 'year']).agg(\n",
    "    start_price=('close', 'first'),\n",
    "    end_price=('close', 'last')\n",
    ").reset_index()\n",
    "\n",
    "# Calculate annual return\n",
    "annual_returns['annual_return'] = (annual_returns['end_price'] - annual_returns['start_price']) / annual_returns['start_price'] * 100\n",
    "\n",
    "# Save to CSV to use in Excel\n",
    "annual_returns.to_csv('./data/processed/annual_returns.csv', index=False)\n"
   ]
  }
 ],
 "metadata": {
  "kernelspec": {
   "display_name": "Python 3 (ipykernel)",
   "language": "python",
   "name": "python3"
  },
  "language_info": {
   "codemirror_mode": {
    "name": "ipython",
    "version": 3
   },
   "file_extension": ".py",
   "mimetype": "text/x-python",
   "name": "python",
   "nbconvert_exporter": "python",
   "pygments_lexer": "ipython3",
   "version": "3.11.9"
  }
 },
 "nbformat": 4,
 "nbformat_minor": 5
}
